{
 "cells": [
  {
   "cell_type": "code",
   "execution_count": 5,
   "id": "08e5faad-0c07-4d00-917d-8d720de43a25",
   "metadata": {
    "tags": []
   },
   "outputs": [],
   "source": [
    "#Exercise 2: Create markdown cell with title of the notebook"
   ]
  },
  {
   "cell_type": "markdown",
   "id": "bb3c2bc5-793a-4d60-8b3c-3aabe33c36fc",
   "metadata": {},
   "source": [
    "# Data Science Tools and Ecosystem"
   ]
  },
  {
   "cell_type": "code",
   "execution_count": 6,
   "id": "798c9609-e04b-49be-a44c-63dde39b10a7",
   "metadata": {
    "tags": []
   },
   "outputs": [],
   "source": [
    "#Exercise 3 - Create a markdown cell for an introduction"
   ]
  },
  {
   "cell_type": "markdown",
   "id": "bacce07c-df5d-46f1-b176-239be355634e",
   "metadata": {},
   "source": [
    "In this notebook, Data Science Tools and Ecosystem are summarized.  "
   ]
  },
  {
   "cell_type": "code",
   "execution_count": 19,
   "id": "07acb9fe-5a05-4448-a6b6-7dff5b00836a",
   "metadata": {
    "tags": []
   },
   "outputs": [],
   "source": [
    "#Exercise 10 - Insert a markdown cell to list Objectives"
   ]
  },
  {
   "cell_type": "markdown",
   "id": "a591016a-e60a-4685-ba3c-d6660873bed4",
   "metadata": {},
   "source": [
    "__Objectives:__\n",
    "* List popular languages for Data Science\n",
    "* List commonly used libraries for Data Science\n",
    "* Table with popular open source tools for Data Science"
   ]
  },
  {
   "cell_type": "code",
   "execution_count": 20,
   "id": "d2102b07-e8f4-40f1-a3f5-dc67151c6374",
   "metadata": {
    "tags": []
   },
   "outputs": [],
   "source": [
    "#Exercise 11 - Create a markdown cell to indicate the Author's name"
   ]
  },
  {
   "cell_type": "markdown",
   "id": "30506315-230f-4e18-8165-d142e0026e3f",
   "metadata": {},
   "source": [
    "## Author  \n",
    "Wojciech Bahonko"
   ]
  },
  {
   "cell_type": "code",
   "execution_count": 8,
   "id": "80f7ca12-e889-409e-92ab-8c868672f531",
   "metadata": {
    "tags": []
   },
   "outputs": [],
   "source": [
    "#Exercise 4 - Create a markdown cell to list data science languages"
   ]
  },
  {
   "cell_type": "markdown",
   "id": "f0fd7a89-d19c-4601-95b6-5a8b6ec29e3d",
   "metadata": {},
   "source": [
    "Some of the popular languages that Data Scientists use are:\n",
    "1. Python\n",
    "2. R\n",
    "3. Scala"
   ]
  },
  {
   "cell_type": "code",
   "execution_count": 9,
   "id": "01afac1e-16e2-494b-89db-e3e7ff6b8362",
   "metadata": {
    "tags": []
   },
   "outputs": [],
   "source": [
    "#Exercise 5 - Create a markdown cell to list data science libraries"
   ]
  },
  {
   "cell_type": "markdown",
   "id": "ffd00244-b622-4465-b613-a68de5a34bea",
   "metadata": {},
   "source": [
    "Some of the commonly used libraries used by Data Scientists include:\n",
    "1. Pandas\n",
    "2. NumPy\n",
    "3. Scikit-learn"
   ]
  },
  {
   "cell_type": "code",
   "execution_count": 11,
   "id": "a7d33822-3eab-43c8-be6e-0484c3045ecc",
   "metadata": {
    "tags": []
   },
   "outputs": [],
   "source": [
    "#Exercise 6 - Create a markdown cell with a table of Data Science tools"
   ]
  },
  {
   "cell_type": "markdown",
   "id": "da753d94-eb0c-448d-8a05-2a893a01013c",
   "metadata": {},
   "source": [
    "|Data Science Tools|\n",
    "|------------------|\n",
    "|MySQL|\n",
    "|Jupyter|\n",
    "|Hue|"
   ]
  },
  {
   "cell_type": "markdown",
   "id": "9d699de6-ec28-44e1-82c5-be3141eb1f4d",
   "metadata": {
    "tags": []
   },
   "source": [
    "|Data Science Tools|\n",
    "|------------------|\n",
    "|MySQL|\n",
    "|Jupyter|\n",
    "|Hue|"
   ]
  },
  {
   "cell_type": "code",
   "execution_count": 12,
   "id": "d94a7881-ba86-4258-a92f-61381b0dc6c9",
   "metadata": {
    "tags": []
   },
   "outputs": [],
   "source": [
    "#Exercise 7 - Create a markdown cell introducing arithmetic expression examples"
   ]
  },
  {
   "cell_type": "markdown",
   "id": "25f1a94d-eaf3-417b-b22a-f8864a1ded8a",
   "metadata": {
    "tags": []
   },
   "source": [
    "### Below are a few examples of evaluating arithmetic expressions in Python"
   ]
  },
  {
   "cell_type": "code",
   "execution_count": 17,
   "id": "8267eb1a-7747-4c21-b3a3-adcccd38bd2a",
   "metadata": {
    "tags": []
   },
   "outputs": [],
   "source": [
    "#Exercise 8 - Create a code cell to multiply and add numbers"
   ]
  },
  {
   "cell_type": "code",
   "execution_count": 1,
   "id": "660d13ff-cbf7-4b2c-a25b-e968838b6cd7",
   "metadata": {
    "tags": []
   },
   "outputs": [
    {
     "data": {
      "text/plain": [
       "17"
      ]
     },
     "execution_count": 1,
     "metadata": {},
     "output_type": "execute_result"
    }
   ],
   "source": [
    "# This a simple arithmetic expression to mutiply then add integers\n",
    "(3*4)+5"
   ]
  },
  {
   "cell_type": "code",
   "execution_count": 18,
   "id": "fbc5445e-efa8-4fb4-923d-17a9cc7b7e90",
   "metadata": {
    "tags": []
   },
   "outputs": [],
   "source": [
    "#Exercise 9 - Create a code cell to convert minutes to hours"
   ]
  },
  {
   "cell_type": "code",
   "execution_count": 2,
   "id": "18e553a1-b4c3-4feb-a409-e9404ba3bb52",
   "metadata": {
    "tags": []
   },
   "outputs": [
    {
     "data": {
      "text/plain": [
       "3"
      ]
     },
     "execution_count": 2,
     "metadata": {},
     "output_type": "execute_result"
    }
   ],
   "source": [
    "# This will convert 200 minutes to hours by diving by 60\n",
    "round(200/60)"
   ]
  },
  {
   "cell_type": "code",
   "execution_count": null,
   "id": "ca8f5b25-4687-4daf-8746-fd8ca1cf124e",
   "metadata": {},
   "outputs": [],
   "source": []
  }
 ],
 "metadata": {
  "kernelspec": {
   "display_name": "Python",
   "language": "python",
   "name": "conda-env-python-py"
  },
  "language_info": {
   "codemirror_mode": {
    "name": "ipython",
    "version": 3
   },
   "file_extension": ".py",
   "mimetype": "text/x-python",
   "name": "python",
   "nbconvert_exporter": "python",
   "pygments_lexer": "ipython3",
   "version": "3.7.12"
  }
 },
 "nbformat": 4,
 "nbformat_minor": 5
}
